{
  "nbformat": 4,
  "nbformat_minor": 0,
  "metadata": {
    "colab": {
      "name": "python_class_1.ipynb",
      "version": "0.3.2",
      "provenance": [],
      "collapsed_sections": []
    },
    "kernelspec": {
      "display_name": "Python 3",
      "language": "python",
      "name": "python3"
    }
  },
  "cells": [
    {
      "metadata": {
        "id": "XSsOxEUsCDOE",
        "colab_type": "text"
      },
      "cell_type": "markdown",
      "source": [
        "<center><h1><b>CLASS 1 - Data structures<b></h1></center>\n",
        "\n",
        "<b>Variables</b><br>\n",
        "A name that is used to denote something or a value is called a variable. In python, variables can be declared and values can be assigned to it as follows\n"
      ]
    },
    {
      "metadata": {
        "id": "MBf5Mvp6CDOF",
        "colab_type": "code",
        "colab": {}
      },
      "cell_type": "code",
      "source": [
        "#Integer\n",
        "some_number = 2 #Integer: Integer is just any whole number\n",
        "#Float\n",
        "some_decimal_number = 5.2 #Floating Point or Float: a variable with a fractional value. Numbers created using a float variable declaration will have digits on both sides of a decimal point.\n",
        "some_number2 = 2.0 #Even this is considered as a float since the decimal is specified"
      ],
      "execution_count": 0,
      "outputs": []
    },
    {
      "metadata": {
        "id": "fMuPWK3RCDOJ",
        "colab_type": "code",
        "colab": {}
      },
      "cell_type": "code",
      "source": [
        "#Strings\n",
        "some_text = 'Hello' #String: A string is usually a bit of text you want to display\n",
        "some_number_string = '0' #A number inside quotes is still considered a string\n",
        "double_quote = \"Hello\" #Strings can be enclosed by either single or double quotes"
      ],
      "execution_count": 0,
      "outputs": []
    },
    {
      "metadata": {
        "id": "DYPcvppcCDON",
        "colab_type": "code",
        "colab": {}
      },
      "cell_type": "code",
      "source": [
        "#Lists (Values are enclosed by []\n",
        "my_list = [1,2,3,4,'hello','Python', 7.9,8] #List can have any number of values and mixed data types. Lists are mutable and values can be added and removed"
      ],
      "execution_count": 0,
      "outputs": []
    },
    {
      "metadata": {
        "id": "-qKE4l-RCDOP",
        "colab_type": "code",
        "colab": {}
      },
      "cell_type": "code",
      "source": [
        "#Tuples (Values are enclosed by ()\n",
        "my_tuple = (1,2,3,4,'Hello','python',7.9,8) #Tuples are similar to lists but they are immutable. i.e you cannot add or remove values from a tuple"
      ],
      "execution_count": 0,
      "outputs": []
    },
    {
      "metadata": {
        "id": "sfJnkRGGCDOT",
        "colab_type": "code",
        "colab": {}
      },
      "cell_type": "code",
      "source": [
        "#Dictionaries (Have keys and values. Keys and values can be of any data type but keys cannot be repeated\n",
        "my_dict = {'some key': 'some value', 'key2': 'value2', 'key3': 'value3', 4 : 'Value for 4', 'key for 5': 5}"
      ],
      "execution_count": 0,
      "outputs": []
    },
    {
      "metadata": {
        "id": "iCbsTq8DCDOW",
        "colab_type": "text"
      },
      "cell_type": "markdown",
      "source": [
        "<b>Question:</b> <br>\n",
        "    Create a variable of name flower_name and assign rose as its value <br>\n",
        "    Create a variable of name my_number and assign 5 as its value"
      ]
    },
    {
      "metadata": {
        "id": "yfqq_6V_CDOX",
        "colab_type": "code",
        "colab": {}
      },
      "cell_type": "code",
      "source": [
        "#Enter your answers here"
      ],
      "execution_count": 0,
      "outputs": []
    },
    {
      "metadata": {
        "id": "clHUpWd8CDOa",
        "colab_type": "text"
      },
      "cell_type": "markdown",
      "source": [
        "<b>Checking data types</b> <br>"
      ]
    },
    {
      "metadata": {
        "id": "Usbw7vT3CDOb",
        "colab_type": "code",
        "colab": {
          "base_uri": "https://localhost:8080/",
          "height": 34
        },
        "outputId": "00fd4f20-cb11-4fc7-a2f0-32f778235653"
      },
      "cell_type": "code",
      "source": [
        "type(123)"
      ],
      "execution_count": 55,
      "outputs": [
        {
          "output_type": "execute_result",
          "data": {
            "text/plain": [
              "int"
            ]
          },
          "metadata": {
            "tags": []
          },
          "execution_count": 55
        }
      ]
    },
    {
      "metadata": {
        "id": "23USLnKdCDOe",
        "colab_type": "code",
        "colab": {
          "base_uri": "https://localhost:8080/",
          "height": 34
        },
        "outputId": "4b400f9b-8bfd-4939-ca1b-067d9f0cd8ef"
      },
      "cell_type": "code",
      "source": [
        "type(12.23)"
      ],
      "execution_count": 56,
      "outputs": [
        {
          "output_type": "execute_result",
          "data": {
            "text/plain": [
              "float"
            ]
          },
          "metadata": {
            "tags": []
          },
          "execution_count": 56
        }
      ]
    },
    {
      "metadata": {
        "id": "gJ434EaTCDOi",
        "colab_type": "code",
        "colab": {
          "base_uri": "https://localhost:8080/",
          "height": 34
        },
        "outputId": "e91829d8-4f18-4ba9-b6e8-012376d87f40"
      },
      "cell_type": "code",
      "source": [
        "type('hello')"
      ],
      "execution_count": 57,
      "outputs": [
        {
          "output_type": "execute_result",
          "data": {
            "text/plain": [
              "str"
            ]
          },
          "metadata": {
            "tags": []
          },
          "execution_count": 57
        }
      ]
    },
    {
      "metadata": {
        "id": "nKRYZzgRCDOm",
        "colab_type": "code",
        "colab": {
          "base_uri": "https://localhost:8080/",
          "height": 34
        },
        "outputId": "2a694d2e-3529-443c-b0d7-7946e88d052a"
      },
      "cell_type": "code",
      "source": [
        "type([1,2,3,4,'five'])"
      ],
      "execution_count": 58,
      "outputs": [
        {
          "output_type": "execute_result",
          "data": {
            "text/plain": [
              "list"
            ]
          },
          "metadata": {
            "tags": []
          },
          "execution_count": 58
        }
      ]
    },
    {
      "metadata": {
        "id": "6NzuclOeCDOp",
        "colab_type": "code",
        "colab": {
          "base_uri": "https://localhost:8080/",
          "height": 34
        },
        "outputId": "b112c3cd-3bc4-4090-da4e-5ab5fb42d1ec"
      },
      "cell_type": "code",
      "source": [
        "type({'a': 1, 'b': 'second', 'c': [1,2,3]})"
      ],
      "execution_count": 59,
      "outputs": [
        {
          "output_type": "execute_result",
          "data": {
            "text/plain": [
              "dict"
            ]
          },
          "metadata": {
            "tags": []
          },
          "execution_count": 59
        }
      ]
    },
    {
      "metadata": {
        "id": "rNtzW-9eCDOs",
        "colab_type": "code",
        "colab": {
          "base_uri": "https://localhost:8080/",
          "height": 34
        },
        "outputId": "d71ac5a6-7749-4239-89f4-ad3056e0eea6"
      },
      "cell_type": "code",
      "source": [
        "type((1,2,3,4,5,6))"
      ],
      "execution_count": 60,
      "outputs": [
        {
          "output_type": "execute_result",
          "data": {
            "text/plain": [
              "tuple"
            ]
          },
          "metadata": {
            "tags": []
          },
          "execution_count": 60
        }
      ]
    },
    {
      "metadata": {
        "id": "yHXjR4TLCDOu",
        "colab_type": "text"
      },
      "cell_type": "markdown",
      "source": [
        "<b>Print statement</b>"
      ]
    },
    {
      "metadata": {
        "id": "MWqVLqAwCDOw",
        "colab_type": "code",
        "colab": {
          "base_uri": "https://localhost:8080/",
          "height": 51
        },
        "outputId": "e5d34634-2836-4173-979e-5607b4f5a6d3"
      },
      "cell_type": "code",
      "source": [
        "#Print statement\n",
        "print('Hello world') #Prints hello world\n",
        "print('Print value of some_number  ==>', some_number) #Prints the variables"
      ],
      "execution_count": 61,
      "outputs": [
        {
          "output_type": "stream",
          "text": [
            "Hello world\n",
            "Print value of some_number  ==> 2\n"
          ],
          "name": "stdout"
        }
      ]
    },
    {
      "metadata": {
        "id": "HdJJtLmYCDOz",
        "colab_type": "text"
      },
      "cell_type": "markdown",
      "source": [
        "<b>Question:</b> <br>\n",
        "    print your name using print statement.\n"
      ]
    },
    {
      "metadata": {
        "id": "P9iscWn-CDO1",
        "colab_type": "code",
        "colab": {}
      },
      "cell_type": "code",
      "source": [
        "#Enter your answer here"
      ],
      "execution_count": 0,
      "outputs": []
    },
    {
      "metadata": {
        "id": "0yvs4V5LCDO3",
        "colab_type": "text"
      },
      "cell_type": "markdown",
      "source": [
        "<b><h3>Operators </b></h3><br>\n",
        "<b>Python Arithmetic Operators:</b><br>\n",
        "Assume variable a holds 10 and variable b holds 20, then −<br>\n",
        "a + b = 30<br>\n",
        "a – b = -10<br>\n",
        "a \\* b = 200<br>\n",
        "b / a = 2<br>\n",
        "b % a = 0<br>\n",
        "a \\*\\* b =10 to the power 20<br>\n",
        "9//2 = 4 and 9.0//2.0 = 4.0, -11//3 = -4, -11.0//3 = -4.0<br>\n",
        "<br>\n",
        "<br>\n",
        "<b>Python Comparison Operators:</b><br>\n",
        "Assume variable a holds 10 and variable b holds 20, then −<br>\n",
        "(a == b) is not true.<br>\n",
        "(a != b) is true.<br>\n",
        "(a <> b) is true. This is similar to != operator.<br>\n",
        "(a > b) is not true.<br>\n",
        "(a < b) is true.<br>\n",
        "(a >= b) is not true.<br>\n",
        "(a <= b) is true.<br>\n",
        "<br>\n",
        "<br>\n",
        "<b>Python Assignment Operators</b><br>\n",
        "Assume variable a holds 10 and variable b holds 20, then −<br>\n",
        "c = a + b assigns value of a + b into c<br>\n",
        "c += a is equivalent to c = c + a<br>\n",
        "c -= a is equivalent to c = c - a<br>\n",
        "c *= a is equivalent to c = c * a<br>\n",
        "c /= a is equivalent to c = c / ac /= a is equivalent to c = c / a<br>\n",
        "c %= a is equivalent to c = c % a<br>\n",
        "c \\** = a is equivalent to c = c ** a<br>\n",
        "c //= a is equivalent to c = c // a<br>\n",
        "\n",
        "<b>Python Logical Operators</b><br>\n",
        "x in y, here in results in a 1 if x is a member of sequence y.<br>\n",
        "x not in y, here not in results in a 1 if x is not a member of sequence y.<br>\n",
        "\n",
        "Python Identity Operators<br>\n",
        "x is y, here is results in 1 if id(x) equals id(y).<br>\n",
        "x is not y, here is not results in 1 if id(x) is not equal to id(y).<br>\n",
        "\n",
        "<b>For more information, please refer:</b> https://www.tutorialspoint.com/python/python_basic_operators.htm\n"
      ]
    },
    {
      "metadata": {
        "id": "Nj6dOvrdCDO4",
        "colab_type": "code",
        "colab": {
          "base_uri": "https://localhost:8080/",
          "height": 136
        },
        "outputId": "f5a7143a-f7a9-441f-c164-9bd8ebf3ebc9"
      },
      "cell_type": "code",
      "source": [
        "#Operators\n",
        "print('10 + 10 = ', 10+10)\n",
        "print('100 - 10 = ', 100-10)\n",
        "print('10 * 10 = ', 10*10)\n",
        "print('10 / 5 = ', 10/5)\n",
        "print('10**2 = ', 10**2) #Prints 10^2 (10 to the power 2)\n",
        "print('8 % 4 = ', 8%4) # % operator prints the remainder\n",
        "print('5 // 2 = ', 5//2) # Similar to divide but prints the obtained to the nearest integer"
      ],
      "execution_count": 63,
      "outputs": [
        {
          "output_type": "stream",
          "text": [
            "10 + 10 =  20\n",
            "100 - 10 =  90\n",
            "10 * 10 =  100\n",
            "10 / 5 =  2.0\n",
            "10**2 =  100\n",
            "8 % 4 =  0\n",
            "5 // 2 =  2\n"
          ],
          "name": "stdout"
        }
      ]
    },
    {
      "metadata": {
        "id": "qBTbqvkCCDO7",
        "colab_type": "code",
        "colab": {
          "base_uri": "https://localhost:8080/",
          "height": 51
        },
        "outputId": "9e017649-aa89-465b-aa26-84023ca0d9ab"
      },
      "cell_type": "code",
      "source": [
        "#Assertion\n",
        "z = 1\n",
        "print('z == 1 =>', z==1) # This returns true because z = 1\n",
        "print('z > 1 =>' , z>1) # Prints false because z is not greater than 1"
      ],
      "execution_count": 64,
      "outputs": [
        {
          "output_type": "stream",
          "text": [
            "z == 1 => True\n",
            "z > 1 => False\n"
          ],
          "name": "stdout"
        }
      ]
    },
    {
      "metadata": {
        "id": "iI-YEOInCDO-",
        "colab_type": "text"
      },
      "cell_type": "markdown",
      "source": [
        "<h3><b>Some common inbuilt functions:</b></h3>\n"
      ]
    },
    {
      "metadata": {
        "id": "Pvm6erJ0CDO_",
        "colab_type": "code",
        "colab": {
          "base_uri": "https://localhost:8080/",
          "height": 119
        },
        "outputId": "1babf1dd-0584-490e-fc1d-fe306eb4ee0c"
      },
      "cell_type": "code",
      "source": [
        "#Some common inbuilt functions\n",
        "print('round(5.222) = ',round(5.222)) #Rounds the value and prints\n",
        "print('abs(-2) = ',abs(-2)) #Prints absolute value\n",
        "print('int(5.555) = ',int(5.555)) # Converts value to an integer and prints\n",
        "print('len(\"hello\") = ', len('hello')) # Prints number of characters in the string\n",
        "print('max([1,2,3,4,5]) = ', max([1,2,3,4,5])) #Prints largest value of a list or tuple\n",
        "print('min([1,2,3,4,5]) = ', min([1,2,3,4,5])) #Prints smallest value of list or tuple"
      ],
      "execution_count": 66,
      "outputs": [
        {
          "output_type": "stream",
          "text": [
            "round(5.222) =  5\n",
            "abs(-2) =  2\n",
            "int(5.555) =  5\n",
            "len(\"hello\") =  5\n",
            "max([1,2,3,4,5]) =  5\n",
            "min([1,2,3,4,5]) =  1\n"
          ],
          "name": "stdout"
        }
      ]
    },
    {
      "metadata": {
        "id": "a51GAgfECDPC",
        "colab_type": "text"
      },
      "cell_type": "markdown",
      "source": [
        "<b>Question:</b> <br>\n",
        "    print the rounded value of 121.9928381\n"
      ]
    },
    {
      "metadata": {
        "id": "i42av4UHCDPC",
        "colab_type": "code",
        "colab": {}
      },
      "cell_type": "code",
      "source": [
        "#Enter your answer here"
      ],
      "execution_count": 0,
      "outputs": []
    },
    {
      "metadata": {
        "id": "bjfgCjvHCDPH",
        "colab_type": "text"
      },
      "cell_type": "markdown",
      "source": [
        "<h3><b>String manipulation functions:</b></h3>\n",
        "Strings are a special type of a python class. As objects, in a class, you can call methods on string objects using the .methodName() notation. The string class is available by default in python, so you do not need an import statement to use the object interface to strings.\n",
        "\n"
      ]
    },
    {
      "metadata": {
        "id": "QrRd2TlDCDPI",
        "colab_type": "code",
        "colab": {
          "base_uri": "https://localhost:8080/",
          "height": 68
        },
        "outputId": "c107f956-3831-4591-d958-8be58ef99d68"
      },
      "cell_type": "code",
      "source": [
        "# go over ? mark after if you are not sure what method does. \n",
        "firstVariable = 'Hello World'\n",
        "print(firstVariable.lower())\n",
        "print(firstVariable.upper())\n",
        "print(firstVariable.title())"
      ],
      "execution_count": 68,
      "outputs": [
        {
          "output_type": "stream",
          "text": [
            "hello world\n",
            "HELLO WORLD\n",
            "Hello World\n"
          ],
          "name": "stdout"
        }
      ]
    },
    {
      "metadata": {
        "id": "TYeyGEXECDPK",
        "colab_type": "code",
        "colab": {
          "base_uri": "https://localhost:8080/",
          "height": 136
        },
        "outputId": "63931127-3d47-4b60-f5bd-281cd3ace49f"
      },
      "cell_type": "code",
      "source": [
        "# To look up what each method does\n",
        "help(firstVariable.lower)"
      ],
      "execution_count": 69,
      "outputs": [
        {
          "output_type": "stream",
          "text": [
            "Help on built-in function lower:\n",
            "\n",
            "lower(...) method of builtins.str instance\n",
            "    S.lower() -> str\n",
            "    \n",
            "    Return a copy of the string S converted to lowercase.\n",
            "\n"
          ],
          "name": "stdout"
        }
      ]
    },
    {
      "metadata": {
        "id": "J9xvNoaECDPN",
        "colab_type": "code",
        "colab": {
          "base_uri": "https://localhost:8080/",
          "height": 34
        },
        "outputId": "f4239784-5559-425d-c1f9-fe852e8c0818"
      },
      "cell_type": "code",
      "source": [
        "a=firstVariable.split(' ')\n",
        "a #Splits string into a list"
      ],
      "execution_count": 70,
      "outputs": [
        {
          "output_type": "execute_result",
          "data": {
            "text/plain": [
              "['Hello', 'World']"
            ]
          },
          "metadata": {
            "tags": []
          },
          "execution_count": 70
        }
      ]
    },
    {
      "metadata": {
        "id": "GCA95R3aCDPP",
        "colab_type": "code",
        "colab": {
          "base_uri": "https://localhost:8080/",
          "height": 34
        },
        "outputId": "fbf4bec9-f702-4333-c611-355522360313"
      },
      "cell_type": "code",
      "source": [
        "' '.join(a)"
      ],
      "execution_count": 71,
      "outputs": [
        {
          "output_type": "execute_result",
          "data": {
            "text/plain": [
              "'Hello World'"
            ]
          },
          "metadata": {
            "tags": []
          },
          "execution_count": 71
        }
      ]
    },
    {
      "metadata": {
        "id": "J6JJ6P20CDPS",
        "colab_type": "code",
        "colab": {
          "base_uri": "https://localhost:8080/",
          "height": 34
        },
        "outputId": "384eae18-3daa-49bf-be74-050541f4a61e"
      },
      "cell_type": "code",
      "source": [
        "print(\"0\" + \"1\")"
      ],
      "execution_count": 74,
      "outputs": [
        {
          "output_type": "stream",
          "text": [
            "01\n"
          ],
          "name": "stdout"
        }
      ]
    },
    {
      "metadata": {
        "id": "5VayIe5SCDPU",
        "colab_type": "code",
        "colab": {
          "base_uri": "https://localhost:8080/",
          "height": 34
        },
        "outputId": "e19ca4dc-99d4-4237-e63a-71334632f614"
      },
      "cell_type": "code",
      "source": [
        "\"0\" * 3"
      ],
      "execution_count": 75,
      "outputs": [
        {
          "output_type": "execute_result",
          "data": {
            "text/plain": [
              "'000'"
            ]
          },
          "metadata": {
            "tags": []
          },
          "execution_count": 75
        }
      ]
    },
    {
      "metadata": {
        "id": "vM_DBftRCDPY",
        "colab_type": "code",
        "colab": {
          "base_uri": "https://localhost:8080/",
          "height": 34
        },
        "outputId": "38f8d4b3-c937-489f-dc06-52dc8e395d24"
      },
      "cell_type": "code",
      "source": [
        "\"Fizz\" + \"Buzz\""
      ],
      "execution_count": 76,
      "outputs": [
        {
          "output_type": "execute_result",
          "data": {
            "text/plain": [
              "'FizzBuzz'"
            ]
          },
          "metadata": {
            "tags": []
          },
          "execution_count": 76
        }
      ]
    },
    {
      "metadata": {
        "id": "dG51XN-5CDPa",
        "colab_type": "text"
      },
      "cell_type": "markdown",
      "source": [
        "<b>Question:</b> <br>\n",
        "    1. Assign the string \"1|2|3|4|5\" to a variable\n",
        "    2. Convert the string to ['1', '2', '3', '4', '5']\n"
      ]
    },
    {
      "metadata": {
        "id": "c_CKmHI2CDPc",
        "colab_type": "code",
        "colab": {}
      },
      "cell_type": "code",
      "source": [
        "#Enter your answer here"
      ],
      "execution_count": 0,
      "outputs": []
    },
    {
      "metadata": {
        "id": "eYfAwQPXCDPg",
        "colab_type": "text"
      },
      "cell_type": "markdown",
      "source": [
        "<h3><b>Getting user input:</b></h3>\n"
      ]
    },
    {
      "metadata": {
        "id": "PxjYs0fqCDPg",
        "colab_type": "code",
        "colab": {
          "base_uri": "https://localhost:8080/",
          "height": 51
        },
        "outputId": "a8377a53-9f88-453f-fadc-c26163ec13c1"
      },
      "cell_type": "code",
      "source": [
        "user_variable = input('Enter your input here: ') #Asks for input when you execute the program\n",
        "print('The value you entered is ', user_variable)"
      ],
      "execution_count": 78,
      "outputs": [
        {
          "output_type": "stream",
          "text": [
            "Enter your input here: fasd\n",
            "The value you entered is  fasd\n"
          ],
          "name": "stdout"
        }
      ]
    },
    {
      "metadata": {
        "id": "V8UTweAPCDPl",
        "colab_type": "text"
      },
      "cell_type": "markdown",
      "source": [
        "<b>Question:</b> <br>\n",
        "   Get a value from user and assign it to a variable"
      ]
    },
    {
      "metadata": {
        "id": "pVmKzZbpCDPm",
        "colab_type": "code",
        "colab": {}
      },
      "cell_type": "code",
      "source": [
        "#Enter your answer here"
      ],
      "execution_count": 0,
      "outputs": []
    },
    {
      "metadata": {
        "id": "olcIs6rwCDPq",
        "colab_type": "text"
      },
      "cell_type": "markdown",
      "source": [
        "<h3><b>Accessing list values and list slicing:</b></h3>"
      ]
    },
    {
      "metadata": {
        "id": "2haBiJJUCDPq",
        "colab_type": "code",
        "colab": {
          "base_uri": "https://localhost:8080/",
          "height": 170
        },
        "outputId": "117408df-8016-40d7-ea28-d924f0a15dd7"
      },
      "cell_type": "code",
      "source": [
        "my_list = [1,2,3,4,5,6,'seven','eight',9]\n",
        "print('Lists elements can be accessed using index')\n",
        "print(my_list[0]) #Prints first element of list\n",
        "print(my_list[2]) #Prints third element of lists\n",
        "print(my_list[1:4]) #Prints second, third and fourth elements of list (list slicing)\n",
        "my_list.append('adding new value') #Adds a new value as last element of list\n",
        "print(my_list)\n",
        "my_list.insert(5, 'Hello class') # Inserts value at 5th position\n",
        "print(my_list)\n",
        "my_list.pop(2) #Removes third element in the list\n",
        "print(my_list)\n",
        "my_list.remove('Hello class') #Removes a specific element of the list\n",
        "print(my_list)\n",
        "my_list.reverse()\n",
        "print(my_list) #Elements are reversed in the list\n"
      ],
      "execution_count": 38,
      "outputs": [
        {
          "output_type": "stream",
          "text": [
            "Lists elements can be accessed using index\n",
            "1\n",
            "3\n",
            "[2, 3, 4]\n",
            "[1, 2, 3, 4, 5, 6, 'seven', 'eight', 9, 'adding new value']\n",
            "[1, 2, 3, 4, 5, 'Hello class', 6, 'seven', 'eight', 9, 'adding new value']\n",
            "[1, 2, 4, 5, 'Hello class', 6, 'seven', 'eight', 9, 'adding new value']\n",
            "[1, 2, 4, 5, 6, 'seven', 'eight', 9, 'adding new value']\n",
            "['adding new value', 9, 'eight', 'seven', 6, 5, 4, 2, 1]\n"
          ],
          "name": "stdout"
        }
      ]
    },
    {
      "metadata": {
        "id": "I4A8KQSvCDPu",
        "colab_type": "text"
      },
      "cell_type": "markdown",
      "source": [
        "<b>Question:</b> <br>\n",
        "   Get a value from user and assign it to a variable and print the variable"
      ]
    },
    {
      "metadata": {
        "id": "UXy2fi8jCDPu",
        "colab_type": "code",
        "colab": {}
      },
      "cell_type": "code",
      "source": [
        "#Enter your answer here"
      ],
      "execution_count": 0,
      "outputs": []
    },
    {
      "metadata": {
        "id": "dTG2_1tSCDPw",
        "colab_type": "text"
      },
      "cell_type": "markdown",
      "source": [
        "<h3><b>Accessing values in dictionaries:</b></h3>"
      ]
    },
    {
      "metadata": {
        "id": "EzY4Tu7LCDPy",
        "colab_type": "code",
        "colab": {
          "base_uri": "https://localhost:8080/",
          "height": 102
        },
        "outputId": "9ff213ec-01e4-4279-9767-edddfa64cdc6"
      },
      "cell_type": "code",
      "source": [
        "my_dict = {'some key': 'some value', 'key2': 'value2', 'key3': 'value3', 4 : 'Value for 4', 'key for 5': 5}\n",
        "print('Dictionary values can be accessed using index')\n",
        "print(my_dict['some key']) #Prints value for key \"some key\"\n",
        "print(my_dict[4]) #Prints value for key 4\n",
        "print(my_dict.keys()) #Print all keys of dictionary\n",
        "print(my_dict.values()) #Print all values of a dictionary"
      ],
      "execution_count": 40,
      "outputs": [
        {
          "output_type": "stream",
          "text": [
            "Dictionary values can be accessed using index\n",
            "some value\n",
            "Value for 4\n",
            "dict_keys(['some key', 'key2', 'key3', 4, 'key for 5'])\n",
            "dict_values(['some value', 'value2', 'value3', 'Value for 4', 5])\n"
          ],
          "name": "stdout"
        }
      ]
    },
    {
      "metadata": {
        "id": "_nMwW95eCDPz",
        "colab_type": "text"
      },
      "cell_type": "markdown",
      "source": [
        "<h2><b><center>Logical operators revision</center></b></h2>\n",
        "\n",
        "<table align='center'>\n",
        "<tr>\n",
        "<th>Logical Operator</th>\n",
        "<th>Description</th>\n",
        "</tr>\n",
        "<tr>\n",
        "    <td>and</td> \n",
        "    <td>If both the operands are True then condition becomes True.</td>\n",
        "</tr>\n",
        "<tr>\n",
        "    <td>or</td>\n",
        "    <td>If any of the two operands are True then condition becomes True.</td>\n",
        "</tr>\n",
        "<tr>\n",
        "    <td>not</td>\n",
        "    <td>Used to reverse the logical (not False becomes True, not True becomes False)</td>\n",
        "</tr>\n",
        "</table>\n"
      ]
    },
    {
      "metadata": {
        "id": "MMLKBS0nCDP0",
        "colab_type": "text"
      },
      "cell_type": "markdown",
      "source": [
        "<h3><b>if else statements:</b></h3>"
      ]
    },
    {
      "metadata": {
        "id": "-AcYGsOjCDP2",
        "colab_type": "text"
      },
      "cell_type": "markdown",
      "source": [
        "<b>if Statements</b>"
      ]
    },
    {
      "metadata": {
        "id": "O6wDyuV2CDP4",
        "colab_type": "code",
        "colab": {
          "base_uri": "https://localhost:8080/",
          "height": 85
        },
        "outputId": "084eb2ee-8c56-43fc-e391-400a2d4a402a"
      },
      "cell_type": "code",
      "source": [
        "# Notice you have to indent after you start a if statement. \n",
        "num = 3\n",
        "if num == 3: \n",
        "    print(num)\n",
        "\n",
        "# Nothing is outputted because num > 10 is FALSE\n",
        "num = 3\n",
        "if num > 10:\n",
        "    print(num)\n",
        "\n",
        "num = 3\n",
        "if num % 3 == 0:\n",
        "    print(\"Fizz\")\n",
        "\n",
        "num = 10\n",
        "if num % 5 == 0:\n",
        "    print(\"Buzz\")\n",
        "\n",
        "if True:\n",
        "    print(\"This was True\")\n",
        "\n",
        "if False: \n",
        "    print(\"Nothing printed\")\n"
      ],
      "execution_count": 79,
      "outputs": [
        {
          "output_type": "stream",
          "text": [
            "3\n",
            "Fizz\n",
            "Buzz\n",
            "This was True\n"
          ],
          "name": "stdout"
        }
      ]
    },
    {
      "metadata": {
        "id": "UagHZh2bCDP7",
        "colab_type": "text"
      },
      "cell_type": "markdown",
      "source": [
        "<b>else statements</b><br>\n",
        "Must be after an if or elif statement. There can be at most one else statement. Will only be executed if all the \"if\" and \"elif\" statements above it are False.\n",
        "\n"
      ]
    },
    {
      "metadata": {
        "id": "0Z3PsJUmCDP8",
        "colab_type": "code",
        "colab": {
          "base_uri": "https://localhost:8080/",
          "height": 34
        },
        "outputId": "dce47083-b581-42f4-be34-660b215f2107"
      },
      "cell_type": "code",
      "source": [
        "\"\"\"We will execute what is inside the else statement\n",
        "because num is not greater than 3\n",
        "\"\"\"\n",
        "num = 1\n",
        "if num > 3 :\n",
        "    print(\"Hi\")\n",
        "else: \n",
        "    print(\"number is not greater than 3\")"
      ],
      "execution_count": 80,
      "outputs": [
        {
          "output_type": "stream",
          "text": [
            "number is not greater than 3\n"
          ],
          "name": "stdout"
        }
      ]
    },
    {
      "metadata": {
        "id": "VaOQzU8pCDP-",
        "colab_type": "code",
        "colab": {
          "base_uri": "https://localhost:8080/",
          "height": 34
        },
        "outputId": "00d3bed4-df82-48dd-b910-b5dd7c3b7992"
      },
      "cell_type": "code",
      "source": [
        "\"\"\"We will execute what is inside the if statement because num > 4\"\"\"\n",
        "num = 4\n",
        "if num > 3 :\n",
        "    print(\"Hi\")\n",
        "else: \n",
        "    print(\"number is not greater than 3\")"
      ],
      "execution_count": 81,
      "outputs": [
        {
          "output_type": "stream",
          "text": [
            "Hi\n"
          ],
          "name": "stdout"
        }
      ]
    },
    {
      "metadata": {
        "id": "zNc7P6DTCDQF",
        "colab_type": "code",
        "colab": {
          "base_uri": "https://localhost:8080/",
          "height": 34
        },
        "outputId": "7e64561b-83f2-46e7-acf1-d99eb5f968b1"
      },
      "cell_type": "code",
      "source": [
        "num = 3\n",
        "if num % 2 == 0:\n",
        "    print(\"Your integer is even\")\n",
        "else: \n",
        "    print(\"Your integer is odd\")"
      ],
      "execution_count": 44,
      "outputs": [
        {
          "output_type": "stream",
          "text": [
            "Your integer is odd\n"
          ],
          "name": "stdout"
        }
      ]
    },
    {
      "metadata": {
        "id": "FNmAWFsRCDQI",
        "colab_type": "text"
      },
      "cell_type": "markdown",
      "source": [
        "<b>if-elif-else combined</b><br>\n"
      ]
    },
    {
      "metadata": {
        "id": "2wQhGZAGCDQJ",
        "colab_type": "code",
        "colab": {
          "base_uri": "https://localhost:8080/",
          "height": 34
        },
        "outputId": "8d9339f4-49b6-4ac1-f15f-832955a10f23"
      },
      "cell_type": "code",
      "source": [
        "num = 21\n",
        "if num > 50:\n",
        "    print('num is larger than 50')\n",
        "elif num == 21:\n",
        "    print('num = 21')\n",
        "else:\n",
        "    print('Catchall condition')\n"
      ],
      "execution_count": 45,
      "outputs": [
        {
          "output_type": "stream",
          "text": [
            "num = 21\n"
          ],
          "name": "stdout"
        }
      ]
    },
    {
      "metadata": {
        "id": "1e4RuK3HCDQM",
        "colab_type": "code",
        "colab": {
          "base_uri": "https://localhost:8080/",
          "height": 34
        },
        "outputId": "1eac0c2f-2e3b-4359-9f86-63e42d7f31d4"
      },
      "cell_type": "code",
      "source": [
        "my_num = 5\n",
        "if my_num % 2 == 0:\n",
        "    print(\"Your number is even\")\n",
        "elif my_num % 2 != 0:\n",
        "    print(\"Your number is odd\")\n",
        "else: \n",
        "    print(\"Are you sure your number is an integer?\")\n"
      ],
      "execution_count": 46,
      "outputs": [
        {
          "output_type": "stream",
          "text": [
            "Your number is odd\n"
          ],
          "name": "stdout"
        }
      ]
    },
    {
      "metadata": {
        "id": "aEi7ZoZpCDQN",
        "colab_type": "code",
        "colab": {
          "base_uri": "https://localhost:8080/",
          "height": 34
        },
        "outputId": "9d37beb1-fdce-4aac-ab21-af759ccd3946"
      },
      "cell_type": "code",
      "source": [
        "# You can have mulitple elif statements. \n",
        "# Remember only the first True statement has its block of code executed. \n",
        "\n",
        "dice_value = 1\n",
        "if dice_value == 1:\n",
        "    print('You rolled a {}. Great job!'.format(dice_value))\n",
        "elif dice_value == 2:\n",
        "    print('You rolled a {}. Great job!'.format(dice_value))\n",
        "elif dice_value == 3:\n",
        "    print('You rolled a {}. Great job!'.format(dice_value))\n",
        "elif dice_value == 4:\n",
        "    print('You rolled a {}. Great job!'.format(dice_value))\n",
        "elif dice_value == 5:\n",
        "    print('You rolled a {}. Great job!'.format(dice_value))\n",
        "elif dice_value == 6:\n",
        "    print('You rolled a {}. Great job!'.format(dice_value))\n",
        "else:\n",
        "    print('None of the conditions above (if elif) were evaluated as True')\n"
      ],
      "execution_count": 47,
      "outputs": [
        {
          "output_type": "stream",
          "text": [
            "You rolled a 1. Great job!\n"
          ],
          "name": "stdout"
        }
      ]
    },
    {
      "metadata": {
        "id": "4_YZkWQLCDQP",
        "colab_type": "text"
      },
      "cell_type": "markdown",
      "source": [
        "<b>Question</b><br>\n",
        "\n",
        "1.Assign num to an integer value.<br>\n",
        "2.Write a series of if, elif, else statements that will print the num you assigned. But for multiples of three print \"Fizz\" instead of the number and for the multiples of five print \"Buzz\". For numbers which are multiples of both three and five print \"FizzBuzz\".\n"
      ]
    },
    {
      "metadata": {
        "id": "ffMFpXnxCDQQ",
        "colab_type": "code",
        "colab": {}
      },
      "cell_type": "code",
      "source": [
        "#Enter your answer here"
      ],
      "execution_count": 0,
      "outputs": []
    },
    {
      "metadata": {
        "id": "8HzxQaIjgfmr",
        "colab_type": "code",
        "colab": {}
      },
      "cell_type": "code",
      "source": [
        ""
      ],
      "execution_count": 0,
      "outputs": []
    }
  ]
}