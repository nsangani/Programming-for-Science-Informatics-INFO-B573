{
 "cells": [
  {
   "cell_type": "code",
   "execution_count": 42,
   "id": "34450f84",
   "metadata": {},
   "outputs": [],
   "source": [
    "# import libraries\n",
    "\n",
    "import pandas as pd\n",
    "import numpy as np\n",
    "import matplotlib.pyplot as plt\n",
    "import seaborn as sns\n",
    "import warnings\n",
    "warnings.filterwarnings(\"ignore\")\n"
   ]
  },
  {
   "cell_type": "code",
   "execution_count": 48,
   "id": "ff555654",
   "metadata": {},
   "outputs": [
    {
     "data": {
      "text/html": [
       "<div>\n",
       "<style scoped>\n",
       "    .dataframe tbody tr th:only-of-type {\n",
       "        vertical-align: middle;\n",
       "    }\n",
       "\n",
       "    .dataframe tbody tr th {\n",
       "        vertical-align: top;\n",
       "    }\n",
       "\n",
       "    .dataframe thead th {\n",
       "        text-align: right;\n",
       "    }\n",
       "</style>\n",
       "<table border=\"1\" class=\"dataframe\">\n",
       "  <thead>\n",
       "    <tr style=\"text-align: right;\">\n",
       "      <th></th>\n",
       "      <th>Expression_Subtype</th>\n",
       "      <th>ABSOLUTE_Ploidy</th>\n",
       "      <th>ABSOLUTE_Purity</th>\n",
       "      <th>Canonical_mut_in_KRAS_EGFR_ALK</th>\n",
       "      <th>Cnncl_mt_n_KRAS_EGFR_ALK_RET_ROS1_BRAF_ERBB2_HRAS_NRAS_AKT1_MAP2</th>\n",
       "      <th>Estimated_allele_fraction_of_a_clonal_varnt_prsnt_t_1_cpy_pr_cll</th>\n",
       "      <th>Pathology_Updated</th>\n",
       "      <th>WGS_as_of_20120731_0_no_1_yes</th>\n",
       "      <th>anatomic_neoplasm_subdivision</th>\n",
       "      <th>days_to_death</th>\n",
       "      <th>...</th>\n",
       "      <th>new_tumor_event_after_initial_treatment</th>\n",
       "      <th>person_neoplasm_cancer_status</th>\n",
       "      <th>primary_therapy_outcome_success</th>\n",
       "      <th>radiation_therapy</th>\n",
       "      <th>sample_type</th>\n",
       "      <th>shortest_dimension</th>\n",
       "      <th>targeted_molecular_therapy</th>\n",
       "      <th>tissue_prospective_collection_indicator</th>\n",
       "      <th>tissue_retrospective_collection_indicator</th>\n",
       "      <th>tobacco_smoking_history</th>\n",
       "    </tr>\n",
       "  </thead>\n",
       "  <tbody>\n",
       "    <tr>\n",
       "      <th>0</th>\n",
       "      <td>0</td>\n",
       "      <td>3.24</td>\n",
       "      <td>0.44</td>\n",
       "      <td>0</td>\n",
       "      <td>0</td>\n",
       "      <td>0.17</td>\n",
       "      <td>2</td>\n",
       "      <td>0</td>\n",
       "      <td>0</td>\n",
       "      <td>244</td>\n",
       "      <td>...</td>\n",
       "      <td>0</td>\n",
       "      <td>0</td>\n",
       "      <td>0</td>\n",
       "      <td>0</td>\n",
       "      <td>0</td>\n",
       "      <td>0.2</td>\n",
       "      <td>1</td>\n",
       "      <td>0</td>\n",
       "      <td>0</td>\n",
       "      <td>1</td>\n",
       "    </tr>\n",
       "    <tr>\n",
       "      <th>1</th>\n",
       "      <td>2</td>\n",
       "      <td>3.65</td>\n",
       "      <td>0.65</td>\n",
       "      <td>0</td>\n",
       "      <td>0</td>\n",
       "      <td>0.21</td>\n",
       "      <td>4</td>\n",
       "      <td>0</td>\n",
       "      <td>4</td>\n",
       "      <td>91</td>\n",
       "      <td>...</td>\n",
       "      <td>1</td>\n",
       "      <td>1</td>\n",
       "      <td>1</td>\n",
       "      <td>0</td>\n",
       "      <td>0</td>\n",
       "      <td>0.4</td>\n",
       "      <td>0</td>\n",
       "      <td>0</td>\n",
       "      <td>0</td>\n",
       "      <td>4</td>\n",
       "    </tr>\n",
       "    <tr>\n",
       "      <th>2</th>\n",
       "      <td>1</td>\n",
       "      <td>5.05</td>\n",
       "      <td>0.50</td>\n",
       "      <td>0</td>\n",
       "      <td>0</td>\n",
       "      <td>0.14</td>\n",
       "      <td>2</td>\n",
       "      <td>1</td>\n",
       "      <td>2</td>\n",
       "      <td>1492</td>\n",
       "      <td>...</td>\n",
       "      <td>1</td>\n",
       "      <td>1</td>\n",
       "      <td>0</td>\n",
       "      <td>0</td>\n",
       "      <td>0</td>\n",
       "      <td>0.2</td>\n",
       "      <td>0</td>\n",
       "      <td>0</td>\n",
       "      <td>0</td>\n",
       "      <td>1</td>\n",
       "    </tr>\n",
       "    <tr>\n",
       "      <th>3</th>\n",
       "      <td>1</td>\n",
       "      <td>5.05</td>\n",
       "      <td>0.50</td>\n",
       "      <td>0</td>\n",
       "      <td>0</td>\n",
       "      <td>0.14</td>\n",
       "      <td>2</td>\n",
       "      <td>1</td>\n",
       "      <td>2</td>\n",
       "      <td>1492</td>\n",
       "      <td>...</td>\n",
       "      <td>1</td>\n",
       "      <td>1</td>\n",
       "      <td>0</td>\n",
       "      <td>0</td>\n",
       "      <td>1</td>\n",
       "      <td>0.4</td>\n",
       "      <td>0</td>\n",
       "      <td>0</td>\n",
       "      <td>0</td>\n",
       "      <td>1</td>\n",
       "    </tr>\n",
       "    <tr>\n",
       "      <th>4</th>\n",
       "      <td>0</td>\n",
       "      <td>2.10</td>\n",
       "      <td>0.72</td>\n",
       "      <td>1</td>\n",
       "      <td>1</td>\n",
       "      <td>0.35</td>\n",
       "      <td>5</td>\n",
       "      <td>1</td>\n",
       "      <td>0</td>\n",
       "      <td>2318</td>\n",
       "      <td>...</td>\n",
       "      <td>1</td>\n",
       "      <td>1</td>\n",
       "      <td>0</td>\n",
       "      <td>0</td>\n",
       "      <td>0</td>\n",
       "      <td>0.6</td>\n",
       "      <td>0</td>\n",
       "      <td>0</td>\n",
       "      <td>0</td>\n",
       "      <td>3</td>\n",
       "    </tr>\n",
       "  </tbody>\n",
       "</table>\n",
       "<p>5 rows × 24 columns</p>\n",
       "</div>"
      ],
      "text/plain": [
       "   Expression_Subtype  ABSOLUTE_Ploidy  ABSOLUTE_Purity  \\\n",
       "0                   0             3.24             0.44   \n",
       "1                   2             3.65             0.65   \n",
       "2                   1             5.05             0.50   \n",
       "3                   1             5.05             0.50   \n",
       "4                   0             2.10             0.72   \n",
       "\n",
       "   Canonical_mut_in_KRAS_EGFR_ALK  \\\n",
       "0                               0   \n",
       "1                               0   \n",
       "2                               0   \n",
       "3                               0   \n",
       "4                               1   \n",
       "\n",
       "   Cnncl_mt_n_KRAS_EGFR_ALK_RET_ROS1_BRAF_ERBB2_HRAS_NRAS_AKT1_MAP2  \\\n",
       "0                                                  0                  \n",
       "1                                                  0                  \n",
       "2                                                  0                  \n",
       "3                                                  0                  \n",
       "4                                                  1                  \n",
       "\n",
       "   Estimated_allele_fraction_of_a_clonal_varnt_prsnt_t_1_cpy_pr_cll  \\\n",
       "0                                               0.17                  \n",
       "1                                               0.21                  \n",
       "2                                               0.14                  \n",
       "3                                               0.14                  \n",
       "4                                               0.35                  \n",
       "\n",
       "   Pathology_Updated  WGS_as_of_20120731_0_no_1_yes  \\\n",
       "0                  2                              0   \n",
       "1                  4                              0   \n",
       "2                  2                              1   \n",
       "3                  2                              1   \n",
       "4                  5                              1   \n",
       "\n",
       "   anatomic_neoplasm_subdivision  days_to_death  ...  \\\n",
       "0                              0            244  ...   \n",
       "1                              4             91  ...   \n",
       "2                              2           1492  ...   \n",
       "3                              2           1492  ...   \n",
       "4                              0           2318  ...   \n",
       "\n",
       "   new_tumor_event_after_initial_treatment  person_neoplasm_cancer_status  \\\n",
       "0                                        0                              0   \n",
       "1                                        1                              1   \n",
       "2                                        1                              1   \n",
       "3                                        1                              1   \n",
       "4                                        1                              1   \n",
       "\n",
       "   primary_therapy_outcome_success  radiation_therapy  sample_type  \\\n",
       "0                                0                  0            0   \n",
       "1                                1                  0            0   \n",
       "2                                0                  0            0   \n",
       "3                                0                  0            1   \n",
       "4                                0                  0            0   \n",
       "\n",
       "   shortest_dimension  targeted_molecular_therapy  \\\n",
       "0                 0.2                           1   \n",
       "1                 0.4                           0   \n",
       "2                 0.2                           0   \n",
       "3                 0.4                           0   \n",
       "4                 0.6                           0   \n",
       "\n",
       "   tissue_prospective_collection_indicator  \\\n",
       "0                                        0   \n",
       "1                                        0   \n",
       "2                                        0   \n",
       "3                                        0   \n",
       "4                                        0   \n",
       "\n",
       "   tissue_retrospective_collection_indicator  tobacco_smoking_history  \n",
       "0                                          0                        1  \n",
       "1                                          0                        4  \n",
       "2                                          0                        1  \n",
       "3                                          0                        1  \n",
       "4                                          0                        3  \n",
       "\n",
       "[5 rows x 24 columns]"
      ]
     },
     "execution_count": 48,
     "metadata": {},
     "output_type": "execute_result"
    }
   ],
   "source": [
    "df = pd.read_csv('cleaned_final_samples.csv')\n",
    "df.head()"
   ]
  },
  {
   "cell_type": "code",
   "execution_count": null,
   "id": "a85d32e6",
   "metadata": {},
   "outputs": [],
   "source": [
    "# Drop unwanted columns \n",
    "\n",
    "# df.drop(['_PANCAN_CNA_PANCAN_K8','additional_pharmaceutical_therapy',\n",
    "#        'additional_radiation_therapy','additional_surgery_locoregional_procedure',\n",
    "#        'additional_surgery_metastatic_procedure','age_at_initial_pathologic_diagnosis',\n",
    "#        'form_completion_date', 'pathologic_M', 'pathologic_N', 'pathologic_T',\n",
    "#        'pathologic_stage', 'stopped_smoking_year', 'tobacco_smoking_history_indicator',\n",
    "#        'year_of_initial_pathologic_diagnosis','year_of_tobacco_smoking_onset'],\n",
    "#       axis = 1, inplace = True)\n"
   ]
  },
  {
   "cell_type": "code",
   "execution_count": 49,
   "id": "93841acc",
   "metadata": {},
   "outputs": [
    {
     "name": "stdout",
     "output_type": "stream",
     "text": [
      "<class 'pandas.core.frame.DataFrame'>\n",
      "RangeIndex: 50 entries, 0 to 49\n",
      "Data columns (total 24 columns):\n",
      " #   Column                                                            Non-Null Count  Dtype  \n",
      "---  ------                                                            --------------  -----  \n",
      " 0   Expression_Subtype                                                50 non-null     int64  \n",
      " 1   ABSOLUTE_Ploidy                                                   50 non-null     float64\n",
      " 2   ABSOLUTE_Purity                                                   50 non-null     float64\n",
      " 3   Canonical_mut_in_KRAS_EGFR_ALK                                    50 non-null     int64  \n",
      " 4   Cnncl_mt_n_KRAS_EGFR_ALK_RET_ROS1_BRAF_ERBB2_HRAS_NRAS_AKT1_MAP2  50 non-null     int64  \n",
      " 5   Estimated_allele_fraction_of_a_clonal_varnt_prsnt_t_1_cpy_pr_cll  50 non-null     float64\n",
      " 6   Pathology_Updated                                                 50 non-null     int64  \n",
      " 7   WGS_as_of_20120731_0_no_1_yes                                     50 non-null     int64  \n",
      " 8   anatomic_neoplasm_subdivision                                     50 non-null     int64  \n",
      " 9   days_to_death                                                     50 non-null     int64  \n",
      " 10  followup_treatment_success                                        50 non-null     int64  \n",
      " 11  gender                                                            50 non-null     int64  \n",
      " 12  history_of_neoadjuvant_treatment                                  50 non-null     int64  \n",
      " 13  longest_dimension                                                 50 non-null     float64\n",
      " 14  new_tumor_event_after_initial_treatment                           50 non-null     int64  \n",
      " 15  person_neoplasm_cancer_status                                     50 non-null     int64  \n",
      " 16  primary_therapy_outcome_success                                   50 non-null     int64  \n",
      " 17  radiation_therapy                                                 50 non-null     int64  \n",
      " 18  sample_type                                                       50 non-null     int64  \n",
      " 19  shortest_dimension                                                50 non-null     float64\n",
      " 20  targeted_molecular_therapy                                        50 non-null     int64  \n",
      " 21  tissue_prospective_collection_indicator                           50 non-null     int64  \n",
      " 22  tissue_retrospective_collection_indicator                         50 non-null     int64  \n",
      " 23  tobacco_smoking_history                                           50 non-null     int64  \n",
      "dtypes: float64(5), int64(19)\n",
      "memory usage: 9.5 KB\n"
     ]
    }
   ],
   "source": [
    "df.info()"
   ]
  },
  {
   "cell_type": "code",
   "execution_count": 50,
   "id": "96672f1c",
   "metadata": {},
   "outputs": [],
   "source": [
    "#df['gender']"
   ]
  },
  {
   "cell_type": "code",
   "execution_count": null,
   "id": "5794d23d",
   "metadata": {},
   "outputs": [],
   "source": [
    "\"\"\"\n",
    "Categorical  to float \n",
    "(Yes/No): (0/1)\n",
    "2,3,20,22,25,32,34,36,39,40,41,44\n",
    "\n",
    "(x,y,z): (0/1/2)\n",
    "5,18,21\n",
    "\n",
    "(x,y,z,a): (0/1/2/3)\n",
    "33,35\n",
    "\n",
    "(x,y,z,a,b): (0/1/2/3/4)\n",
    "6,14,24,31\n",
    "\n",
    "change 21 yes, pharma... to YES only\n",
    "change[discrepency] to blanks: 32,33,34\n",
    "\n",
    "Drop columns\n",
    "8,9,10,11,12,13,19,[27:30],38,43,45,46\n",
    "\n",
    "\"\"\""
   ]
  },
  {
   "cell_type": "code",
   "execution_count": null,
   "id": "95d853c2",
   "metadata": {},
   "outputs": [],
   "source": [
    "# # Transform the Categorical data values to Malignant(M) = 1 & Benign(B) = 0\n",
    "# from sklearn.preprocessing import LabelEncoder\n",
    "# labelencoder_Y = LabelEncoder()\n",
    "\n",
    "# binary_colname = [2,3,20,22,25,32,34,36,39,40,41,44]\n",
    "\n",
    "# for colname in binary_colname:\n",
    "#     df.iloc[:,colname] = labelencoder_Y.fit_transform(df.iloc[:,colname].values)\n",
    "#     print(df.iloc[:,colname].values)"
   ]
  },
  {
   "cell_type": "code",
   "execution_count": 51,
   "id": "c2f6e82c",
   "metadata": {},
   "outputs": [
    {
     "data": {
      "text/plain": [
       "Expression_Subtype                                                  0\n",
       "ABSOLUTE_Ploidy                                                     0\n",
       "ABSOLUTE_Purity                                                     0\n",
       "Canonical_mut_in_KRAS_EGFR_ALK                                      0\n",
       "Cnncl_mt_n_KRAS_EGFR_ALK_RET_ROS1_BRAF_ERBB2_HRAS_NRAS_AKT1_MAP2    0\n",
       "Estimated_allele_fraction_of_a_clonal_varnt_prsnt_t_1_cpy_pr_cll    0\n",
       "Pathology_Updated                                                   0\n",
       "WGS_as_of_20120731_0_no_1_yes                                       0\n",
       "anatomic_neoplasm_subdivision                                       0\n",
       "days_to_death                                                       0\n",
       "followup_treatment_success                                          0\n",
       "gender                                                              0\n",
       "history_of_neoadjuvant_treatment                                    0\n",
       "longest_dimension                                                   0\n",
       "new_tumor_event_after_initial_treatment                             0\n",
       "person_neoplasm_cancer_status                                       0\n",
       "primary_therapy_outcome_success                                     0\n",
       "radiation_therapy                                                   0\n",
       "sample_type                                                         0\n",
       "shortest_dimension                                                  0\n",
       "targeted_molecular_therapy                                          0\n",
       "tissue_prospective_collection_indicator                             0\n",
       "tissue_retrospective_collection_indicator                           0\n",
       "tobacco_smoking_history                                             0\n",
       "dtype: int64"
      ]
     },
     "execution_count": 51,
     "metadata": {},
     "output_type": "execute_result"
    }
   ],
   "source": [
    "# Count all the null (NA) values in each column\n",
    "df.isnull().sum()\n",
    "\n",
    "# if you want to delete rows containing NA values\n",
    "# raw_Data = raw_Data.dropna(inplace=True)"
   ]
  },
  {
   "cell_type": "code",
   "execution_count": 52,
   "id": "7a5b8727",
   "metadata": {},
   "outputs": [
    {
     "data": {
      "text/plain": [
       "<AxesSubplot:xlabel='Expression_Subtype', ylabel='count'>"
      ]
     },
     "execution_count": 52,
     "metadata": {},
     "output_type": "execute_result"
    },
    {
     "data": {
      "image/png": "[encoded data removed]",
      "text/plain": [
       "<Figure size 432x288 with 1 Axes>"
      ]
     },
     "metadata": {
      "needs_background": "light"
     },
     "output_type": "display_data"
    }
   ],
   "source": [
    "# Visualize the count\n",
    "\n",
    "sns.countplot(df['Expression_Subtype'], label = 'count') # (x,y)"
   ]
  },
  {
   "cell_type": "code",
   "execution_count": 56,
   "id": "b7b0e89d",
   "metadata": {},
   "outputs": [],
   "source": [
    "# Pair plot of 5 columns in respect to diagnosis\n",
    "# sns.pairplot(df.iloc[:,1:5], hue = ' followup_treatment_success' ) #Diagnosis to area_mean "
   ]
  },
  {
   "cell_type": "code",
   "execution_count": 58,
   "id": "f2508286",
   "metadata": {},
   "outputs": [],
   "source": [
    "# Split the datasets into independent(X) and dependent(Y)\n",
    "# Conversion of datatype from pandas df > numpy array for model creation: To check use type() function\n",
    "\n",
    "X = df.iloc[:,1:23].values #features\n",
    "Y = df.iloc[:,0].values #label predicted"
   ]
  },
  {
   "cell_type": "code",
   "execution_count": 63,
   "id": "85e7d3ae",
   "metadata": {},
   "outputs": [],
   "source": [
    "# Split dataset into 75% training and 25% testing\n",
    "from sklearn.model_selection import train_test_split\n",
    "X_train, X_test, Y_train, Y_test = train_test_split(X,Y, test_size = 0.30, random_state = 1)"
   ]
  },
  {
   "cell_type": "code",
   "execution_count": 64,
   "id": "f514138d",
   "metadata": {},
   "outputs": [],
   "source": [
    "# Feature Scaling\n",
    "from sklearn.preprocessing import StandardScaler\n",
    "sc = StandardScaler()\n",
    "X_train = sc.fit_transform(X_train)\n",
    "X_test = sc.fit_transform(X_test)"
   ]
  },
  {
   "cell_type": "code",
   "execution_count": 65,
   "id": "d71af4ed",
   "metadata": {},
   "outputs": [],
   "source": [
    "# Create a function for the models\n",
    "def models(X_train, Y_train):\n",
    "  # Logistic Regression Model\n",
    "  from sklearn.linear_model import LogisticRegression\n",
    "  log = LogisticRegression(random_state = 1)\n",
    "  log.fit(X_train, Y_train)\n",
    "\n",
    "  # Decision Tree\n",
    "  from sklearn.tree import DecisionTreeClassifier\n",
    "  tree = DecisionTreeClassifier(criterion ='entropy', random_state = 1)\n",
    "  tree.fit(X_train, Y_train)\n",
    "\n",
    "  # Random Forest Classifier\n",
    "  from sklearn.ensemble import RandomForestClassifier\n",
    "  forest = RandomForestClassifier(n_estimators = 10, criterion = 'entropy', random_state = 1)\n",
    "  forest.fit(X_train, Y_train)\n",
    "    # SVM\n",
    "    \n",
    "    \n",
    "  # print accuracy on the training data\n",
    "  print('[0]Logistic Regression Training Accuracy: ', log.score(X_train, Y_train))\n",
    "  print('[1]Decision Tree Classifier Training Accuracy: ', tree.score(X_train, Y_train))\n",
    "  print('[2]Random Forest Classifier Training Accuracy: ', forest.score(X_train, Y_train))\n",
    "  \n",
    "  return log, tree, forest"
   ]
  },
  {
   "cell_type": "code",
   "execution_count": 66,
   "id": "b28e5202",
   "metadata": {},
   "outputs": [
    {
     "name": "stdout",
     "output_type": "stream",
     "text": [
      "[0]Logistic Regression Training Accuracy:  1.0\n",
      "[1]Decision Tree Classifier Training Accuracy:  1.0\n",
      "[2]Random Forest Classifier Training Accuracy:  1.0\n"
     ]
    }
   ],
   "source": [
    "# Get the models' accuracy\n",
    "\n",
    "model = models(X_train, Y_train)"
   ]
  },
  {
   "cell_type": "code",
   "execution_count": 67,
   "id": "ddfc8094",
   "metadata": {},
   "outputs": [
    {
     "name": "stdout",
     "output_type": "stream",
     "text": [
      "Model 0\n",
      "[[0 1 0]\n",
      " [2 4 3]\n",
      " [2 0 3]]\n",
      "Testing Accuracy =  0.5714285714285714 \n",
      "\n",
      "Model 1\n",
      "[[0 1 0]\n",
      " [2 4 3]\n",
      " [0 2 3]]\n",
      "Testing Accuracy =  0.5714285714285714 \n",
      "\n",
      "Model 2\n",
      "[[0 1 0]\n",
      " [3 5 1]\n",
      " [1 2 2]]\n",
      "Testing Accuracy =  0.5555555555555556 \n",
      "\n"
     ]
    }
   ],
   "source": [
    "# Testing model accuracy on test data using confusion matrix \n",
    "\n",
    "from sklearn.metrics import confusion_matrix\n",
    "\n",
    "for i in range(len(model)):\n",
    "  print('Model', i)\n",
    "  cm =  confusion_matrix(Y_test, model[i].predict(X_test))\n",
    "\n",
    "  TP = cm[0][0]\n",
    "  TN = cm[1][1]\n",
    "  FN = cm[1][0]\n",
    "  FP = cm[0][1]\n",
    "\n",
    "  print(cm) \n",
    "  print('Testing Accuracy = ', (TP + TN)/(TP+TN+FN+FP), '\\n')"
   ]
  },
  {
   "cell_type": "code",
   "execution_count": 71,
   "id": "363dda4b",
   "metadata": {},
   "outputs": [
    {
     "data": {
      "image/png": "[encoded data removed]",
      "text/plain": [
       "<Figure size 432x288 with 2 Axes>"
      ]
     },
     "metadata": {
      "needs_background": "light"
     },
     "output_type": "display_data"
    }
   ],
   "source": [
    "# Visualize confusion matrix\n",
    "from sklearn.metrics import plot_confusion_matrix\n",
    "plot_confusion_matrix(model[1], X_test, Y_test)\n",
    "plt.show()"
   ]
  },
  {
   "cell_type": "code",
   "execution_count": 70,
   "id": "0ecf6e19",
   "metadata": {},
   "outputs": [
    {
     "name": "stdout",
     "output_type": "stream",
     "text": [
      "Model 0\n",
      "              precision    recall  f1-score   support\n",
      "\n",
      "           0       0.00      0.00      0.00         1\n",
      "           1       0.80      0.44      0.57         9\n",
      "           2       0.50      0.60      0.55         5\n",
      "\n",
      "    accuracy                           0.47        15\n",
      "   macro avg       0.43      0.35      0.37        15\n",
      "weighted avg       0.65      0.47      0.52        15\n",
      "\n",
      "0.4666666666666667 \n",
      "\n",
      "Model 1\n",
      "              precision    recall  f1-score   support\n",
      "\n",
      "           0       0.00      0.00      0.00         1\n",
      "           1       0.57      0.44      0.50         9\n",
      "           2       0.50      0.60      0.55         5\n",
      "\n",
      "    accuracy                           0.47        15\n",
      "   macro avg       0.36      0.35      0.35        15\n",
      "weighted avg       0.51      0.47      0.48        15\n",
      "\n",
      "0.4666666666666667 \n",
      "\n",
      "Model 2\n",
      "              precision    recall  f1-score   support\n",
      "\n",
      "           0       0.00      0.00      0.00         1\n",
      "           1       0.62      0.56      0.59         9\n",
      "           2       0.67      0.40      0.50         5\n",
      "\n",
      "    accuracy                           0.47        15\n",
      "   macro avg       0.43      0.32      0.36        15\n",
      "weighted avg       0.60      0.47      0.52        15\n",
      "\n",
      "0.4666666666666667 \n",
      "\n"
     ]
    }
   ],
   "source": [
    "# Another way to get the metrics using libraries\n",
    "\n",
    "from sklearn.metrics import classification_report\n",
    "from sklearn.metrics import accuracy_score\n",
    "\n",
    "for i in range(len(model)):\n",
    "  print('Model', i)\n",
    "  print(classification_report(Y_test, model[i].predict(X_test)))\n",
    "  print(accuracy_score(Y_test, model[i].predict(X_test)), '\\n')"
   ]
  }
 ],
 "metadata": {
  "kernelspec": {
   "display_name": "Python 3",
   "language": "python",
   "name": "python3"
  },
  "language_info": {
   "codemirror_mode": {
    "name": "ipython",
    "version": 3
   },
   "file_extension": ".py",
   "mimetype": "text/x-python",
   "name": "python",
   "nbconvert_exporter": "python",
   "pygments_lexer": "ipython3",
   "version": "3.8.5"
  }
 },
 "nbformat": 4,
 "nbformat_minor": 5
}
